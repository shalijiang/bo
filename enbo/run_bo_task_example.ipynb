{
 "cells": [
  {
   "cell_type": "markdown",
   "metadata": {},
   "source": [
    "# First install botorch from the botorch_dev repo: https://github.com/shalijiang/botorch_dev"
   ]
  },
  {
   "cell_type": "code",
   "execution_count": 2,
   "metadata": {},
   "outputs": [
    {
     "name": "stdout",
     "output_type": "stream",
     "text": [
      "The autoreload extension is already loaded. To reload it, use:\n",
      "  %reload_ext autoreload\n",
      "log saved in./log_tmp/branin_2.wstbps8.gh.10_num_iter_4_num_init_2_seed_1\n",
      "start 2020-05-14 16:21:58.357841 branin_2.wstbps8.gh.10_num_iter_4_num_init_2_seed_1\n",
      "\n",
      "initial observed values: \n",
      "tensor([-29.0952, -57.6312])\n",
      "initial best value:  -29.095169067382812\n",
      "optimal value:  -0.397887\n",
      " Branin 2.wstbps8.gh.10 trial 1 iteration  0: observed value = -29.095169   best_value = -29.095169, time = 0.000000.\n",
      "restart 1 has higher mll: -1.207208\n",
      "restart 2 has higher mll: -1.207207\n"
     ]
    },
    {
     "name": "stderr",
     "output_type": "stream",
     "text": [
      "/home/shalijiang/Dropbox/Research/bayesian_optimization/botorch/botorch/gen.py:125: OptimizeWarning: Unknown solver options: log_nit_nfev\n",
      "  options={k: v for k, v in options.items() if k != \"method\"},\n"
     ]
    },
    {
     "name": "stdout",
     "output_type": "stream",
     "text": [
      " Branin 2.wstbps8.gh.10 trial 1 iteration  1: observed value = [-6.293374]   best_value =  -6.293374, time = 17.166448.\n",
      "restart 1 has higher mll: -1.255125\n"
     ]
    },
    {
     "name": "stderr",
     "output_type": "stream",
     "text": [
      "/home/shalijiang/Dropbox/Research/bayesian_optimization/botorch/botorch/gen.py:125: OptimizeWarning: Unknown solver options: log_nit_nfev\n",
      "  options={k: v for k, v in options.items() if k != \"method\"},\n"
     ]
    },
    {
     "name": "stdout",
     "output_type": "stream",
     "text": [
      " Branin 2.wstbps8.gh.10 trial 1 iteration  2: observed value = [-36.936325]   best_value =  -6.293374, time = 5.995879.\n",
      "restart 1 has higher mll: -1.380242\n"
     ]
    },
    {
     "name": "stderr",
     "output_type": "stream",
     "text": [
      "/home/shalijiang/Dropbox/Research/bayesian_optimization/botorch/botorch/gen.py:125: OptimizeWarning: Unknown solver options: log_nit_nfev\n",
      "  options={k: v for k, v in options.items() if k != \"method\"},\n"
     ]
    },
    {
     "name": "stdout",
     "output_type": "stream",
     "text": [
      " Branin 2.wstbps8.gh.10 trial 1 iteration  3: observed value = [-20.185772]   best_value =  -6.293374, time = 3.723670.\n",
      "restart 1 has higher mll: -1.309448\n",
      " Branin 2.wstbps8.gh.10 trial 1 iteration  4: observed value = [-4.875348]   best_value =  -4.875348, time = 0.843694.\n",
      "\n",
      "saving results to ./results_tmp/branin_2.wstbps8.gh.10_num_iter_4_num_init_2_seed_1\n",
      "finish 2020-05-14 16:22:26.096143 branin_2.wstbps8.gh.10_num_iter_4_num_init_2_seed_1\n",
      "done\n"
     ]
    },
    {
     "data": {
      "text/plain": [
       "([-29.095169067382812,\n",
       "  -6.293374061584473,\n",
       "  -6.293374061584473,\n",
       "  -6.293374061584473,\n",
       "  -4.875348091125488],\n",
       " FixedNoiseGP(\n",
       "   (likelihood): FixedNoiseGaussianLikelihood(\n",
       "     (noise_covar): FixedGaussianNoise()\n",
       "   )\n",
       "   (mean_module): ConstantMean()\n",
       "   (covar_module): ScaleKernel(\n",
       "     (base_kernel): MaternKernel(\n",
       "       (lengthscale_prior): GammaPrior()\n",
       "       (raw_lengthscale_constraint): Positive()\n",
       "     )\n",
       "     (outputscale_prior): GammaPrior()\n",
       "     (raw_outputscale_constraint): Positive()\n",
       "   )\n",
       " ),\n",
       " tensor([[ 6.3645,  4.1897],\n",
       "         [ 1.0460, 11.0203],\n",
       "         [ 4.3148,  1.6421],\n",
       "         [ 0.1580,  1.5739],\n",
       "         [ 5.9163,  0.0000],\n",
       "         [ 3.6459,  0.1029]]),\n",
       " tensor([[-29.0952],\n",
       "         [-57.6312],\n",
       "         [ -6.2934],\n",
       "         [-36.9363],\n",
       "         [-20.1858],\n",
       "         [ -4.8753]]),\n",
       " array([17.16644812,  5.99587941,  3.72366977,  0.84369373]))"
      ]
     },
     "execution_count": 2,
     "metadata": {},
     "output_type": "execute_result"
    }
   ],
   "source": [
    "\n",
    "%load_ext autoreload\n",
    "%autoreload 2\n",
    "from run_bo_task_func import run_bo_task_func\n",
    "\n",
    "\"\"\"\n",
    "synthetic function: \n",
    "    \"eggholder\", \"dropwave\", \"shubert\", \"rastrigin4\", \"ackley2\", \"ackley5\", \"bukin\", \"shekel5\", \"shekel7\", \n",
    "gp samples: \n",
    "    \"gp_sample1\", \"gp_sample2\", ...\n",
    "real functions: \n",
    "    \"xxx_on_grid\" or \"xxx_on_grid.interpolater\", where xxx could be\n",
    "    \"svm\", \"lda\", \"logreg\", \"nn_boston\", \"nn_cancer\", \"robotpush3\", \"robotpush4\", \"cosmological\", \n",
    "                \n",
    "                \n",
    "Policiy naming syntax:\n",
    "    \"2.tbps.10\": 2-step TBPS with 10 qmc samples  \n",
    "    \"3.tbps.10.5\": 3-step TBPS with 10 and 5 qmc fantasies in 1st and 2nd stages, respectively\n",
    "    \"2.tbps.gh.10\": add \".gh\" to use Gauss-Hermite sampler \n",
    "    \"2.wstbps.gh.10\", add \"ws\" for warm-start\n",
    "    \"2.wstbps8.gh.10\", add one hidden layer with 8 nodes \n",
    "    \"2.wstbps2_8.gh.10\", two hidden layers with 8 nodes each \n",
    "    \n",
    "\"\"\"\n",
    "\n",
    "run_bo_task_func(\n",
    "    objective_func_name=\"branin\",  # e.g., \"branin\", \"svm_on_grid\", \"svm_on_grid.interpolater\"\n",
    "    method=\"2.wstbps8.gh.10\",  # BO policy, e.g., \"EI\", \"2.wsms.gh.10\"\n",
    "    num_iter_scale=2,  # num_iter_scale * d would be the number of BO iterations\n",
    "    num_init_scale=1,  # num_init_scale * d would be the number of initial random observations\n",
    "    seed=1,  # random seed\n",
    "    save_dir=\"./results_tmp\",  # pickled results of BO saved here\n",
    "    log_dir=\"./log_tmp\",  # log file directory\n",
    "    verbose=True,\n",
    "    print_opt_log=True,  # print #iter and #eval in optimize_acqf \n",
    ")"
   ]
  },
  {
   "cell_type": "code",
   "execution_count": null,
   "metadata": {},
   "outputs": [],
   "source": []
  }
 ],
 "metadata": {
  "kernelspec": {
   "display_name": "Python 3",
   "language": "python",
   "name": "python3"
  },
  "language_info": {
   "codemirror_mode": {
    "name": "ipython",
    "version": 3
   },
   "file_extension": ".py",
   "mimetype": "text/x-python",
   "name": "python",
   "nbconvert_exporter": "python",
   "pygments_lexer": "ipython3",
   "version": "3.7.6"
  }
 },
 "nbformat": 4,
 "nbformat_minor": 4
}
