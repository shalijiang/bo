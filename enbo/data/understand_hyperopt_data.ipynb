{
 "cells": [
  {
   "cell_type": "code",
   "execution_count": 69,
   "metadata": {},
   "outputs": [
    {
     "name": "stdout",
     "output_type": "stream",
     "text": [
      "svm_on_grid\n",
      "(1400, 5)\n",
      "there are 3 hyperparameters\n",
      "parameter 0: C\n",
      "0.1, 1, 5, 10, 25, 50, 75, 100, 200, 300, 400, 500, 600, 700, 800, 900, 1000, 2000, 3000, 4000, 5000, 6000, 7000, 10000, 1e+06, \n",
      "parameter 1: alpha\n",
      "0.1, 0.2, 0.3, 0.4, 0.5, 0.6, 0.7, 0.8, 0.9, 1, 1.5, 2, 3, 5, \n",
      "parameter 2: epsilon\n",
      "0.0001, 0.001, 0.01, 0.1, \n",
      "min y = 0.241100\n",
      "best x:\n",
      "12.5507, -3.32193, -9.96578, \n",
      "R2: 0.04569377226013116 cv score: 0.167 +/- 0.144\n",
      "R2: 0.9693967497307229 cv score: 0.978 +/- 0.011\n",
      "\n",
      "lda_on_grid\n",
      "(289, 5)\n",
      "there are 3 hyperparameters\n",
      "parameter 0: kappa\n",
      "0.5, 0.6, 0.7, 0.8, 0.9, 1, \n",
      "parameter 1: tau\n",
      "1, 4, 16, 64, 256, 1024, \n",
      "parameter 2: batch_size\n",
      "1, 4, 16, 64, 256, 1024, 4096, 16384, \n",
      "min y = 1266.167382\n",
      "best x:\n",
      "0.5, 4, 14, \n",
      "R2: 0.5976106753250442 cv score: 0.548 +/- 0.046\n"
     ]
    },
    {
     "name": "stderr",
     "output_type": "stream",
     "text": [
      "/home/shalijiang/anaconda3/lib/python3.7/site-packages/sklearn/ensemble/forest.py:245: FutureWarning: The default value of n_estimators will change from 10 in version 0.20 to 100 in 0.22.\n",
      "  \"10 in version 0.20 to 100 in 0.22.\", FutureWarning)\n",
      "/home/shalijiang/anaconda3/lib/python3.7/site-packages/sklearn/ensemble/forest.py:245: FutureWarning: The default value of n_estimators will change from 10 in version 0.20 to 100 in 0.22.\n",
      "  \"10 in version 0.20 to 100 in 0.22.\", FutureWarning)\n"
     ]
    },
    {
     "name": "stdout",
     "output_type": "stream",
     "text": [
      "R2: 0.9850731286617531 cv score: 0.967 +/- 0.017\n",
      "\n",
      "logreg_on_grid\n",
      "(9680, 7)\n",
      "there are 4 hyperparameters\n",
      "parameter 0: learning_rate\n",
      "0, 1, 2, 3, 4, 5, 6, 7, 8, 9, 10, \n",
      "parameter 1: l2_reg\n",
      "0, 0.1, 0.2, 0.3, 0.4, 0.5, 0.6, 0.7, 0.8, 0.9, 1, \n",
      "parameter 2: batch_size\n",
      "20, 40, 80, 160, 320, 640, 1280, 2560, \n",
      "parameter 3: n_epochs\n",
      "5, 10, 20, 40, 80, 160, 320, 640, 1280, 2560, \n",
      "min y = 0.068500\n",
      "best x:\n",
      "3, 0, 5.32193, 6.32193, \n",
      "3, 0, 5.32193, 7.32193, \n",
      "3, 0, 5.32193, 8.32193, \n",
      "3, 0, 5.32193, 9.32193, \n",
      "3, 0, 5.32193, 10.3219, \n",
      "3, 0, 5.32193, 11.3219, \n",
      "4, 0, 4.32193, 6.32193, \n",
      "4, 0, 4.32193, 7.32193, \n",
      "4, 0, 4.32193, 8.32193, \n",
      "4, 0, 4.32193, 9.32193, \n",
      "R2: 0.32985666827144255 cv score: -6.937 +/- 7.421\n"
     ]
    },
    {
     "name": "stderr",
     "output_type": "stream",
     "text": [
      "/home/shalijiang/anaconda3/lib/python3.7/site-packages/sklearn/ensemble/forest.py:245: FutureWarning: The default value of n_estimators will change from 10 in version 0.20 to 100 in 0.22.\n",
      "  \"10 in version 0.20 to 100 in 0.22.\", FutureWarning)\n"
     ]
    },
    {
     "name": "stdout",
     "output_type": "stream",
     "text": [
      "R2: 0.9990115314179514 cv score: 0.408 +/- 0.489\n",
      "\n",
      "nn_boston_on_grid\n",
      "NA idx: (array([], dtype=int64),)\n",
      "(50000, 5)\n",
      "there are 4 hyperparameters\n",
      "min y = 6.521200\n",
      "best x:\n",
      "0.053367, 0.039708, 0.61862, 0.65813, \n",
      "R2: 0.2855497262275125 cv score: 0.281 +/- 0.002\n"
     ]
    },
    {
     "name": "stderr",
     "output_type": "stream",
     "text": [
      "/home/shalijiang/anaconda3/lib/python3.7/site-packages/sklearn/ensemble/forest.py:245: FutureWarning: The default value of n_estimators will change from 10 in version 0.20 to 100 in 0.22.\n",
      "  \"10 in version 0.20 to 100 in 0.22.\", FutureWarning)\n"
     ]
    },
    {
     "name": "stdout",
     "output_type": "stream",
     "text": [
      "R2: 0.9626510441369271 cv score: 0.959 +/- 0.005\n",
      "\n",
      "nn_cancer_on_grid\n",
      "NA idx: (array([], dtype=int64),)\n",
      "(50000, 5)\n",
      "there are 4 hyperparameters\n",
      "min y = 0.040576\n",
      "best x:\n",
      "0.8434, 0.95442, 0.36952, 0.12665, \n",
      "0.84552, 0.88104, 0.065481, 0.42733, \n",
      "0.84065, 0.0050843, 0.70424, 0.99609, \n",
      "0.83952, 0.67591, 0.90233, 0.27946, \n",
      "0.84643, 0.080357, 0.97685, 0.70298, \n",
      "0.84216, 0.40303, 0.94374, 0.85515, \n",
      "0.84395, 0.44903, 0.74907, 0.5933, \n",
      "0.841, 0.57113, 0.10659, 0.017463, \n",
      "0.84788, 0.17065, 0.029864, 0.93756, \n",
      "0.84694, 0.53092, 0.33232, 0.28689, \n",
      "R2: 0.038655898737848804 cv score: 0.040 +/- 0.000\n"
     ]
    },
    {
     "name": "stderr",
     "output_type": "stream",
     "text": [
      "/home/shalijiang/anaconda3/lib/python3.7/site-packages/sklearn/ensemble/forest.py:245: FutureWarning: The default value of n_estimators will change from 10 in version 0.20 to 100 in 0.22.\n",
      "  \"10 in version 0.20 to 100 in 0.22.\", FutureWarning)\n"
     ]
    },
    {
     "name": "stdout",
     "output_type": "stream",
     "text": [
      "R2: 0.9973884604939771 cv score: 0.998 +/- 0.001\n",
      "\n",
      "robotpush3_on_grid\n",
      "NA idx: (array([ 1875,  1950,  1963,  5582,  8664, 16366, 16748]),)\n",
      "(19993, 4)\n",
      "there are 3 hyperparameters\n",
      "min y = 0.074788\n",
      "best x:\n",
      "0.63739, 0.17381, 0.41972, \n",
      "R2: 0.7186362810190471 cv score: 0.714 +/- 0.001\n"
     ]
    },
    {
     "name": "stderr",
     "output_type": "stream",
     "text": [
      "/home/shalijiang/anaconda3/lib/python3.7/site-packages/sklearn/ensemble/forest.py:245: FutureWarning: The default value of n_estimators will change from 10 in version 0.20 to 100 in 0.22.\n",
      "  \"10 in version 0.20 to 100 in 0.22.\", FutureWarning)\n"
     ]
    },
    {
     "name": "stdout",
     "output_type": "stream",
     "text": [
      "R2: 0.9904542839527178 cv score: 0.991 +/- 0.000\n",
      "\n",
      "robotpush4_on_grid\n",
      "NA idx: (array([ 1114,  1977,  4246,  6041,  6314, 10863, 13369, 15269, 16000,\n",
      "       16059, 17029, 17957, 18293]),)\n",
      "(19987, 5)\n",
      "there are 4 hyperparameters\n",
      "min y = 0.076187\n",
      "best x:\n",
      "0.97806, 0.16691, 0.39027, 0.23409, \n",
      "R2: 0.24582289779354358 cv score: 0.247 +/- 0.004\n"
     ]
    },
    {
     "name": "stderr",
     "output_type": "stream",
     "text": [
      "/home/shalijiang/anaconda3/lib/python3.7/site-packages/sklearn/ensemble/forest.py:245: FutureWarning: The default value of n_estimators will change from 10 in version 0.20 to 100 in 0.22.\n",
      "  \"10 in version 0.20 to 100 in 0.22.\", FutureWarning)\n"
     ]
    },
    {
     "name": "stdout",
     "output_type": "stream",
     "text": [
      "R2: 0.43178002215344985 cv score: 0.439 +/- 0.008\n",
      "\n"
     ]
    }
   ],
   "source": [
    "import numpy as np\n",
    "from sklearn.linear_model import LinearRegression\n",
    "from sklearn.ensemble import RandomForestRegressor\n",
    "from sklearn.model_selection import train_test_split, cross_val_score\n",
    "\n",
    "import matplotlib.pyplot as plt\n",
    "datanames = ['svm', 'lda', 'logreg', 'nn_boston', 'nn_cancer', 'robotpush3', 'robotpush4']\n",
    "x_dims = [3, 3, 4, 4, 4, 3, 4]\n",
    "log_trans = True\n",
    "log_trans_dims = {'svm': (0,1,2), 'lda': (1, 2), 'logreg':(2, 3)}\n",
    "\n",
    "def print_compact(x):\n",
    "    for _, v in enumerate(x):\n",
    "        print(\"%g, \" % v, end=\"\")\n",
    "    print()\n",
    "for i, name in enumerate(datanames[0:]):\n",
    "    name_on_grid = name + \"_on_grid\"\n",
    "    print(name_on_grid)\n",
    "    if name in log_trans_dims.keys():\n",
    "        import_command = f\"from {name_on_grid} import param_names, param_values, grid_configs\"\n",
    "        exec(import_command)\n",
    "    else:\n",
    "        grid_configs = np.loadtxt(name_on_grid + \".csv\", delimiter=\",\")\n",
    "        nan_idx = np.nonzero(np.isnan(grid_configs[:,-1])) \n",
    "        print(\"NA idx:\", nan_idx)\n",
    "        grid_configs = np.delete(grid_configs, nan_idx, axis=0)\n",
    "        d = grid_configs.shape[1]\n",
    "        param_names = [\"NA\"]*d\n",
    "\n",
    "    data = np.array(grid_configs)\n",
    "    print(data.shape)\n",
    "    print(\"there are %d hyperparameters\" % x_dims[i])\n",
    "    # print each dim unique values \n",
    "    for j in range(x_dims[i]):\n",
    "        param_name = param_names[j]\n",
    "        unique_values = sorted(np.unique(data[:, j]))\n",
    "#         reference_values = sorted(param_values[param_name])\n",
    "#         assert reference_values == unique_values\n",
    "        if name in log_trans_dims:\n",
    "            print(\"parameter %d: %s\" % (j, param_name))\n",
    "            print_compact(unique_values)\n",
    "#         else:\n",
    "#             plt.hist(data[:,j], label=name + str(j), bins=20)\n",
    "#             plt.show()\n",
    "    \n",
    "    x = data[:,:x_dims[i]]\n",
    "    if log_trans and name in log_trans_dims:\n",
    "        dims = log_trans_dims[name]\n",
    "        x[:, dims] = np.log2(x[:, dims])\n",
    "    y = data[:,x_dims[i]]\n",
    "    y_min = min(y)\n",
    "    print(\"min y = %f\" % y_min)\n",
    "    best_ind = np.nonzero(y == y_min)[0]\n",
    "    print(\"best x:\")\n",
    "\n",
    "    for j in best_ind[:10]:\n",
    "        print_compact(data[j,:x_dims[i]])\n",
    "\n",
    "        \n",
    "        \n",
    "    xtr, xte, ytr, yte = train_test_split(x, y, test_size=0.2, random_state=0)\n",
    "    lr = LinearRegression()\n",
    "    lr.fit(xtr, ytr)\n",
    "    r2 = lr.score(xte, yte)\n",
    "    cv_r2 = cross_val_score(lr, x, y, cv=5)\n",
    "    print(\"R2:\", r2, \"cv score: %.3f +/- %.3f\" % (cv_r2.mean(), cv_r2.std()))\n",
    "    \n",
    "    rf = RandomForestRegressor()\n",
    "    rf.fit(xtr, ytr)\n",
    "    r2 = rf.score(xte, yte)\n",
    "    cv_r2 = cross_val_score(rf, x, y, cv=5)\n",
    "    print(\"R2:\", r2, \"cv score: %.3f +/- %.3f\" % (cv_r2.mean(), cv_r2.std()))\n",
    "    print()"
   ]
  },
  {
   "cell_type": "code",
   "execution_count": null,
   "metadata": {},
   "outputs": [],
   "source": []
  },
  {
   "cell_type": "code",
   "execution_count": 77,
   "metadata": {},
   "outputs": [
    {
     "name": "stdout",
     "output_type": "stream",
     "text": [
      "svm_on_grid\n",
      "[[6.0000e+02 5.0000e-01 1.0000e-02 2.7620e-01 1.9198e+02]\n",
      " [9.0000e+02 8.0000e-01 1.0000e-01 2.7420e-01 9.9976e+01]\n",
      " [2.0000e+03 5.0000e+00 1.0000e-01 2.7910e-01 1.1441e+02]]\n",
      "[[  9.22881869  -1.          -6.64385619   0.2762     191.98      ]\n",
      " [  9.81378119  -0.32192809  -3.32192809   0.2742      99.976     ]\n",
      " [ 10.96578428   2.32192809  -3.32192809   0.2791     114.41      ]]\n",
      "lda_on_grid\n",
      "[[1.00000000e+00 4.00000000e+00 1.60000000e+01 2.01425535e+03\n",
      "  3.63931900e+04]\n",
      " [9.00000000e-01 1.02400000e+03 4.09600000e+03 1.68054018e+03\n",
      "  3.64195100e+04]\n",
      " [6.00000000e-01 1.02400000e+03 4.09600000e+03 1.32819130e+03\n",
      "  2.42198500e+04]]\n",
      "[[1.00000000e+00 2.00000000e+00 4.00000000e+00 2.01425535e+03\n",
      "  3.63931900e+04]\n",
      " [9.00000000e-01 1.00000000e+01 1.20000000e+01 1.68054018e+03\n",
      "  3.64195100e+04]\n",
      " [6.00000000e-01 1.00000000e+01 1.20000000e+01 1.32819130e+03\n",
      "  2.42198500e+04]]\n",
      "logreg_on_grid\n",
      "[[ 0.        0.       20.        5.        0.0906    0.0954    3.990431]\n",
      " [ 0.        0.       20.       10.        0.0906    0.0954    4.1155  ]\n",
      " [ 0.        0.       20.       20.        0.0906    0.0954    4.126255]]\n",
      "[[0.         0.         4.32192809 2.32192809 0.0906     0.0954\n",
      "  3.990431  ]\n",
      " [0.         0.         4.32192809 3.32192809 0.0906     0.0954\n",
      "  4.1155    ]\n",
      " [0.         0.         4.32192809 4.32192809 0.0906     0.0954\n",
      "  4.126255  ]]\n"
     ]
    }
   ],
   "source": [
    "\n",
    "datanames = ['svm', 'lda', 'logreg', 'nn_boston', 'nn_cancer', 'robotpush3', 'robotpush4']\n",
    "x_dims = [3, 3, 4, 4, 4, 3, 4]\n",
    "log_trans = True\n",
    "log_trans_dims = {'svm': (0,1,2), 'lda': (1, 2), 'logreg':(2, 3)}\n",
    "\n",
    "for i, name in enumerate(datanames[0:3]):\n",
    "    name_on_grid = name + \"_on_grid\"\n",
    "    print(name_on_grid)\n",
    "\n",
    "    import_command = f\"from {name_on_grid} import param_names, param_values, grid_configs\"\n",
    "    exec(import_command)\n",
    "\n",
    "\n",
    "    data = np.array(grid_configs)\n",
    "    print(data[:3,:])\n",
    "    \n",
    "    if log_trans and name in log_trans_dims:\n",
    "        dims = log_trans_dims[name]\n",
    "        data[:,:x_dims[i]][:, dims] = np.log2(data[:,:x_dims[i]][:, dims])\n",
    "        print(data[:3,:])\n",
    "    np.savetxt(name_on_grid + \".csv\", data[:,:x_dims[i]+1], fmt=\"%g\", delimiter=\",\")"
   ]
  },
  {
   "cell_type": "code",
   "execution_count": 74,
   "metadata": {},
   "outputs": [
    {
     "name": "stderr",
     "output_type": "stream",
     "text": [
      "/home/shalijiang/anaconda3/lib/python3.7/site-packages/ipykernel_launcher.py:1: RuntimeWarning: divide by zero encountered in log2\n",
      "  \"\"\"Entry point for launching an IPython kernel.\n"
     ]
    },
    {
     "data": {
      "text/plain": [
       "-inf"
      ]
     },
     "execution_count": 74,
     "metadata": {},
     "output_type": "execute_result"
    }
   ],
   "source": [
    "np.log2(0)"
   ]
  }
 ],
 "metadata": {
  "kernelspec": {
   "display_name": "Python 3",
   "language": "python",
   "name": "python3"
  },
  "language_info": {
   "codemirror_mode": {
    "name": "ipython",
    "version": 3
   },
   "file_extension": ".py",
   "mimetype": "text/x-python",
   "name": "python",
   "nbconvert_exporter": "python",
   "pygments_lexer": "ipython3",
   "version": "3.7.3"
  }
 },
 "nbformat": 4,
 "nbformat_minor": 2
}
